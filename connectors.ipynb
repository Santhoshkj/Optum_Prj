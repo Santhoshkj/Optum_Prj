{
 "cells": [
  {
   "cell_type": "code",
   "execution_count": 0,
   "metadata": {
    "application/vnd.databricks.v1+cell": {
     "cellMetadata": {
      "byteLimit": 2048000,
      "rowLimit": 10000
     },
     "inputWidgets": {},
     "nuid": "0b9f635a-d5fd-4b08-b372-a4b1f79152e0",
     "showTitle": false,
     "tableResultSettingsMap": {},
     "title": ""
    }
   },
   "outputs": [],
   "source": [
    "def aldsconnector():\n",
    "    spark.conf.set(\"fs.azure.account.key.optumsadls.dfs.core.windows.net\",dbutils.secrets.get(scope=\"optumscope\", key=\"optumadlskey\"))\n",
    "    print(\"adls connection successful\")"
   ]
  },
  {
   "cell_type": "code",
   "execution_count": 0,
   "metadata": {
    "application/vnd.databricks.v1+cell": {
     "cellMetadata": {
      "byteLimit": 2048000,
      "rowLimit": 10000
     },
     "inputWidgets": {},
     "nuid": "4271277b-53fc-4e98-ab31-fb8cb2382cc8",
     "showTitle": false,
     "tableResultSettingsMap": {},
     "title": ""
    }
   },
   "outputs": [],
   "source": [
    "def blobconnector():\n",
    "    spark.conf.set(\"fs.azure.account.key.optumblob.dfs.core.windows.net\",dbutils.secrets.get(scope=\"optumscope\", key=\"optumblobkey\"))\n",
    "    print(\"blob connection successful\")"
   ]
  },
  {
   "cell_type": "code",
   "execution_count": 0,
   "metadata": {
    "application/vnd.databricks.v1+cell": {
     "cellMetadata": {
      "byteLimit": 2048000,
      "rowLimit": 10000
     },
     "inputWidgets": {},
     "nuid": "150feaae-dc3f-4119-a913-6fb1c447f0df",
     "showTitle": false,
     "tableResultSettingsMap": {},
     "title": ""
    }
   },
   "outputs": [],
   "source": [
    "def readbronzedata(fn):\n",
    "    aldsconnector()\n",
    "    df = spark.read.format(\"csv\").option(\"header\", \"true\").option(\"inferSchema\", \"true\").load(\"abfss://optum@optumsadls.dfs.core.windows.net/bronze/\"+fn)\n",
    "    return df"
   ]
  },
  {
   "cell_type": "code",
   "execution_count": 0,
   "metadata": {
    "application/vnd.databricks.v1+cell": {
     "cellMetadata": {
      "byteLimit": 2048000,
      "rowLimit": 10000
     },
     "inputWidgets": {},
     "nuid": "b2ebb2fb-d643-44de-b184-50bbb17a242d",
     "showTitle": false,
     "tableResultSettingsMap": {},
     "title": ""
    }
   },
   "outputs": [],
   "source": [
    "def readbronzedatajson(fn):\n",
    "    aldsconnector()\n",
    "    df = spark.read.format(\"json\").load(\"abfss://optum@optumsadls.dfs.core.windows.net/bronze/\"+fn)\n",
    "    return df"
   ]
  },
  {
   "cell_type": "code",
   "execution_count": 0,
   "metadata": {
    "application/vnd.databricks.v1+cell": {
     "cellMetadata": {},
     "inputWidgets": {},
     "nuid": "62fd7936-9d89-4f20-a545-388a99c6dc15",
     "showTitle": false,
     "tableResultSettingsMap": {},
     "title": ""
    }
   },
   "outputs": [],
   "source": [
    "def readsilverdata(fn):\n",
    "    aldsconnector()\n",
    "    df = spark.read.format(\"csv\").option(\"header\", \"true\").load(\"abfss://optum@optumsadls.dfs.core.windows.net/silver/\"+fn)\n",
    "    return df"
   ]
  },
  {
   "cell_type": "code",
   "execution_count": 0,
   "metadata": {
    "application/vnd.databricks.v1+cell": {
     "cellMetadata": {
      "byteLimit": 2048000,
      "rowLimit": 10000
     },
     "inputWidgets": {},
     "nuid": "8a4daaf8-2784-47d4-9f5d-42a01d393502",
     "showTitle": false,
     "tableResultSettingsMap": {},
     "title": ""
    }
   },
   "outputs": [],
   "source": [
    "def readgolddata(fn):\n",
    "    aldsconnector()\n",
    "    df = spark.read.format(\"csv\").option(\"header\", \"true\").load(\"abfss://optum@optumsadls.dfs.core.windows.net/gold/\"+fn)\n",
    "    return df"
   ]
  },
  {
   "cell_type": "code",
   "execution_count": 0,
   "metadata": {
    "application/vnd.databricks.v1+cell": {
     "cellMetadata": {
      "byteLimit": 2048000,
      "rowLimit": 10000
     },
     "inputWidgets": {},
     "nuid": "31f51af3-8ba5-4c0a-a2ec-dae913193d0f",
     "showTitle": false,
     "tableResultSettingsMap": {},
     "title": ""
    }
   },
   "outputs": [],
   "source": [
    "def write2silver(df, file_name):\n",
    "    silver_path = \"abfss://optum@optumsadls.dfs.core.windows.net/silver/\"\n",
    "    temp_path = f\"{silver_path}/output_temp\"\n",
    "    final_path = f\"{silver_path}/{file_name}\"\n",
    "    df.coalesce(1).write.mode(\"overwrite\").option(\"header\", \"true\").csv(temp_path)\n",
    "    files = dbutils.fs.ls(temp_path)\n",
    "    csv_file = [f.path for f in files if f.path.endswith(\".csv\")][0]\n",
    "    dbutils.fs.mv(csv_file, final_path)\n",
    "    dbutils.fs.rm(temp_path, recurse=True)\n",
    "    print(f\"CSV file successfully written to {final_path}\")\n",
    "    return final_path"
   ]
  },
  {
   "cell_type": "code",
   "execution_count": 0,
   "metadata": {
    "application/vnd.databricks.v1+cell": {
     "cellMetadata": {
      "byteLimit": 2048000,
      "rowLimit": 10000
     },
     "inputWidgets": {},
     "nuid": "a30dc800-38b4-4322-8ddf-07a5e658d766",
     "showTitle": false,
     "tableResultSettingsMap": {},
     "title": ""
    }
   },
   "outputs": [],
   "source": [
    "def write2gold(df, file_name):\n",
    "    gold_path = \"abfss://optum@optumsadls.dfs.core.windows.net/gold/\"\n",
    "    temp_path = f\"{gold_path}/output_temp\"\n",
    "    final_path = f\"{gold_path}/{file_name}\"\n",
    "    df.coalesce(1).write.mode(\"overwrite\").option(\"header\", \"true\").csv(temp_path)\n",
    "    files = dbutils.fs.ls(temp_path)\n",
    "    csv_file = [f.path for f in files if f.path.endswith(\".csv\")][0]\n",
    "    dbutils.fs.mv(csv_file, final_path)\n",
    "    dbutils.fs.rm(temp_path, recurse=True)\n",
    "    print(f\"CSV file successfully written to {final_path}\")\n",
    "    return final_path"
   ]
  }
 ],
 "metadata": {
  "application/vnd.databricks.v1+notebook": {
   "computePreferences": null,
   "dashboards": [],
   "environmentMetadata": {
    "base_environment": "",
    "environment_version": "2"
   },
   "language": "python",
   "notebookMetadata": {
    "pythonIndentUnit": 4
   },
   "notebookName": "connectors",
   "widgets": {}
  },
  "language_info": {
   "name": "python"
  }
 },
 "nbformat": 4,
 "nbformat_minor": 0
}