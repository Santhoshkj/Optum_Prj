{
 "cells": [
  {
   "cell_type": "code",
   "execution_count": 0,
   "metadata": {
    "application/vnd.databricks.v1+cell": {
     "cellMetadata": {
      "byteLimit": 2048000,
      "rowLimit": 10000
     },
     "inputWidgets": {},
     "nuid": "cdf61d39-ee4c-4c94-bc46-69fb699a4f24",
     "showTitle": false,
     "tableResultSettingsMap": {},
     "title": ""
    }
   },
   "outputs": [],
   "source": [
    "%run \"/Workspace/Shared/optum/connectors\""
   ]
  },
  {
   "cell_type": "code",
   "execution_count": 0,
   "metadata": {
    "application/vnd.databricks.v1+cell": {
     "cellMetadata": {
      "byteLimit": 2048000,
      "rowLimit": 10000
     },
     "inputWidgets": {},
     "nuid": "26332bb3-c29c-46b5-8999-18d55f7f31c2",
     "showTitle": false,
     "tableResultSettingsMap": {},
     "title": ""
    }
   },
   "outputs": [
    {
     "output_type": "stream",
     "name": "stdout",
     "output_type": "stream",
     "text": [
      "adls connection successful\nadls connection successful\nadls connection successful\nadls connection successful\nadls connection successful\nadls connection successful\nadls connection successful\nadls connection successful\n"
     ]
    }
   ],
   "source": [
    "aldsconnector()\n",
    "Hospital_df = readsilverdata(\"Hospital_S.csv\")\n",
    "Patient_df = readsilverdata(\"Patient_S.csv\")\n",
    "Claims_df = readsilverdata(\"Claims_S.csv\")\n",
    "Disease_df = readsilverdata(\"Disease_S.csv\")\n",
    "Group_df = readsilverdata(\"Group_S.csv\")\n",
    "SubGroup_df = readsilverdata(\"SubGroup_S.csv\")\n",
    "Subscriber_S_df = readsilverdata(\"Subscriber_S.csv\")"
   ]
  },
  {
   "cell_type": "code",
   "execution_count": 0,
   "metadata": {
    "application/vnd.databricks.v1+cell": {
     "cellMetadata": {
      "byteLimit": 2048000,
      "rowLimit": 10000
     },
     "inputWidgets": {},
     "nuid": "0485b943-02b4-4ab4-b4d3-09bc03cd0346",
     "showTitle": false,
     "tableResultSettingsMap": {},
     "title": ""
    }
   },
   "outputs": [
    {
     "output_type": "display_data",
     "data": {
      "text/html": [
       "<style scoped>\n",
       "  .table-result-container {\n",
       "    max-height: 300px;\n",
       "    overflow: auto;\n",
       "  }\n",
       "  table, th, td {\n",
       "    border: 1px solid black;\n",
       "    border-collapse: collapse;\n",
       "  }\n",
       "  th, td {\n",
       "    padding: 5px;\n",
       "  }\n",
       "  th {\n",
       "    text-align: left;\n",
       "  }\n",
       "</style><div class='table-result-container'><table class='table-result'><thead style='background-color: white'><tr><th>Patient_id</th><th>Patient_name</th><th>patient_gender</th><th>disease_name</th><th>city</th><th>hospital_id</th><th>patient_age</th></tr></thead><tbody><tr><td>189996</td><td>Ekant</td><td>Male</td><td>Measles</td><td>Berhampore</td><td>H1003</td><td>82</td></tr><tr><td>109251</td><td>Anjushree</td><td>Male</td><td>Choking</td><td>Ghaziabad</td><td>H1001</td><td>49</td></tr><tr><td>121783</td><td>Paridhi</td><td>Female</td><td>Bladder cancer</td><td>Jabalpur</td><td>H1013</td><td>66</td></tr><tr><td>194166</td><td>Visitor/NA</td><td>Male</td><td>Colorectal cancer</td><td>Baranagar</td><td>H1015</td><td>78</td></tr><tr><td>156434</td><td>Pushti</td><td>Female</td><td>Flu</td><td>Morbi</td><td>H1019</td><td>89</td></tr></tbody></table></div>"
      ]
     },
     "metadata": {
      "application/vnd.databricks.v1+output": {
       "addedWidgets": {},
       "aggData": [],
       "aggError": "",
       "aggOverflow": false,
       "aggSchema": [],
       "aggSeriesLimitReached": false,
       "aggType": "",
       "arguments": {},
       "columnCustomDisplayInfos": {},
       "data": [
        [
         "189996",
         "Ekant",
         "Male",
         "Measles",
         "Berhampore",
         "H1003",
         "82"
        ],
        [
         "109251",
         "Anjushree",
         "Male",
         "Choking",
         "Ghaziabad",
         "H1001",
         "49"
        ],
        [
         "121783",
         "Paridhi",
         "Female",
         "Bladder cancer",
         "Jabalpur",
         "H1013",
         "66"
        ],
        [
         "194166",
         "Visitor/NA",
         "Male",
         "Colorectal cancer",
         "Baranagar",
         "H1015",
         "78"
        ],
        [
         "156434",
         "Pushti",
         "Female",
         "Flu",
         "Morbi",
         "H1019",
         "89"
        ]
       ],
       "datasetInfos": [],
       "dbfsResultPath": null,
       "isJsonSchema": true,
       "metadata": {},
       "overflow": false,
       "plotOptions": {
        "customPlotOptions": {},
        "displayType": "table",
        "pivotAggregation": null,
        "pivotColumns": null,
        "xColumns": null,
        "yColumns": null
       },
       "removedWidgets": [],
       "schema": [
        {
         "metadata": "{}",
         "name": "Patient_id",
         "type": "\"string\""
        },
        {
         "metadata": "{}",
         "name": "Patient_name",
         "type": "\"string\""
        },
        {
         "metadata": "{}",
         "name": "patient_gender",
         "type": "\"string\""
        },
        {
         "metadata": "{}",
         "name": "disease_name",
         "type": "\"string\""
        },
        {
         "metadata": "{}",
         "name": "city",
         "type": "\"string\""
        },
        {
         "metadata": "{}",
         "name": "hospital_id",
         "type": "\"string\""
        },
        {
         "metadata": "{}",
         "name": "patient_age",
         "type": "\"string\""
        }
       ],
       "type": "table"
      }
     },
     "output_type": "display_data"
    }
   ],
   "source": [
    "display(Patient_df.head(5))"
   ]
  },
  {
   "cell_type": "code",
   "execution_count": 0,
   "metadata": {
    "application/vnd.databricks.v1+cell": {
     "cellMetadata": {
      "byteLimit": 2048000,
      "rowLimit": 10000
     },
     "inputWidgets": {},
     "nuid": "0c9e0841-3ce9-4269-9433-989eb9c8ea3c",
     "showTitle": false,
     "tableResultSettingsMap": {},
     "title": ""
    }
   },
   "outputs": [],
   "source": [
    "merged_df = Patient_df \\\n",
    "    .join(Hospital_df, Patient_df['hospital_id'] == Hospital_df['hospital_id']) \\\n",
    "    .join(Claims_df, Patient_df['Patient_id'] == Claims_df['patient_id']) \\\n",
    "    .join(Subscriber_S_df, Subscriber_S_df['sub_id'] == Claims_df['SUB_ID']) \\\n",
    "    .drop(Hospital_df[\"hospital_id\"]) \\\n",
    "    .drop(Claims_df[\"patient_id\"]) \\\n",
    "    .drop(Subscriber_S_df[\"sub_id\"]) \\\n",
    "    .drop(Patient_df[\"city\"])\\\n",
    "    .drop(Disease_df['disease_name']) \\\n",
    "    .drop(Claims_df['disease_name']) \\\n",
    "    .drop(Hospital_df['country']) \\\n",
    "    .drop(Hospital_df['City']) \\\n",
    "    .drop(Patient_df['patient_gender']) \\\n",
    "    .drop(Patient_df['patient_age'])"
   ]
  },
  {
   "cell_type": "code",
   "execution_count": 0,
   "metadata": {
    "application/vnd.databricks.v1+cell": {
     "cellMetadata": {
      "byteLimit": 2048000,
      "rowLimit": 10000
     },
     "inputWidgets": {},
     "nuid": "6d81d718-c5b6-4456-8941-15e54fea9b0d",
     "showTitle": false,
     "tableResultSettingsMap": {},
     "title": ""
    }
   },
   "outputs": [
    {
     "output_type": "display_data",
     "data": {
      "text/html": [
       "<style scoped>\n",
       "  .table-result-container {\n",
       "    max-height: 300px;\n",
       "    overflow: auto;\n",
       "  }\n",
       "  table, th, td {\n",
       "    border: 1px solid black;\n",
       "    border-collapse: collapse;\n",
       "  }\n",
       "  th, td {\n",
       "    padding: 5px;\n",
       "  }\n",
       "  th {\n",
       "    text-align: left;\n",
       "  }\n",
       "</style><div class='table-result-container'><table class='table-result'><thead style='background-color: white'><tr><th>Patient_id</th><th>Patient_name</th><th>patient_gender</th><th>disease_name</th><th>city</th><th>hospital_id</th><th>patient_age</th><th>Hospital_id</th><th>Hospital_name</th><th>city</th><th>state</th><th>country</th><th>Claim_Or_Rejected</th><th>SUB_ID</th><th>claim_amount</th><th>claim_date</th><th>claim_id</th><th>claim_type</th><th>disease_name</th><th>patient_id</th><th>sub_id</th><th>first_name</th><th>last_name</th><th>Street</th><th>Gender</th><th>Country</th><th>City</th><th>Zip Code</th><th>Subgrp_id</th><th>Elig_ind</th><th>eff_date</th><th>term_date</th><th>age</th></tr></thead><tbody><tr><td>189996</td><td>Ekant</td><td>Male</td><td>Measles</td><td>Berhampore</td><td>H1003</td><td>82</td><td>H1003</td><td>PGIMER - Postgraduate Institute of Medical Education and Research</td><td>Chandigarh</td><td>Haryana</td><td>India</td><td>N</td><td>SUBID10026</td><td>192381</td><td>1966-08-30</td><td>26</td><td>claims of value</td><td>Measles</td><td>189996</td><td>SUBID10026</td><td>Ekant</td><td>Sonkar</td><td>Walla Road</td><td>Male</td><td>India</td><td>Berhampore</td><td>948589</td><td>S110</td><td>Y</td><td>1963-08-13</td><td>1967-05-29</td><td>82</td></tr><tr><td>109251</td><td>Anjushree</td><td>Male</td><td>Choking</td><td>Ghaziabad</td><td>H1001</td><td>49</td><td>H1001</td><td>Medanta The Medicity</td><td>Gurgaon</td><td>Haryana</td><td>India</td><td>Y</td><td>SUBID10040</td><td>116937</td><td>1998-09-26</td><td>40</td><td>claims of value</td><td>Choking</td><td>109251</td><td>SUBID10040</td><td>Anjushree</td><td>Pandey</td><td>Vora Ganj</td><td>Male</td><td>India</td><td>Ghaziabad</td><td>782221</td><td>S105</td><td>N</td><td>1996-07-04</td><td>1999-02-17</td><td>49</td></tr><tr><td>121783</td><td>Paridhi</td><td>Female</td><td>Bladder cancer</td><td>Jabalpur</td><td>H1013</td><td>66</td><td>H1013</td><td>Apollo Health City - Jubilee Hills</td><td>Hyderabad</td><td>Telangana</td><td>India</td><td>N</td><td>SUBID10049</td><td>159815</td><td>1983-06-20</td><td>49</td><td>claims of fact</td><td>Bladder cancer</td><td>121783</td><td>SUBID10049</td><td>Paridhi</td><td>Yadav</td><td>Sant Path</td><td>Female</td><td>India</td><td>Jabalpur</td><td>883754</td><td>S107</td><td>N</td><td>1979-03-27</td><td>1985-06-01</td><td>66</td></tr><tr><td>194166</td><td>Visitor/NA</td><td>Male</td><td>Colorectal cancer</td><td>Baranagar</td><td>H1015</td><td>78</td><td>H1015</td><td>Fortis Hospital Mulund</td><td>Mumbai</td><td>Maharashtra</td><td>India</td><td>N</td><td>SUBID10051</td><td>193801</td><td>1969-02-01</td><td>51</td><td>claims of value</td><td>Colorectal cancer</td><td>194166</td><td>SUBID10051</td><td>Vistor/NA</td><td>Rajput</td><td>Chauhan Chowk</td><td>Male</td><td>India</td><td>Baranagar</td><td>765234</td><td>S103</td><td>Y</td><td>1966-10-17</td><td>1969-06-26</td><td>78</td></tr><tr><td>156434</td><td>Pushti</td><td>Female</td><td>Flu</td><td>Morbi</td><td>H1019</td><td>89</td><td>H1019</td><td>Apollo Hospitals - Bannerghatta Road</td><td>Bengaluru</td><td>Karnataka</td><td>India</td><td>N</td><td>SUBID10028</td><td>122806</td><td>1958-08-05</td><td>28</td><td>claims of policy</td><td>Flu</td><td>156434</td><td>SUBID10028</td><td>Pushti</td><td>Pandit</td><td>Deol Path</td><td>Female</td><td>India</td><td>Morbi</td><td>284168</td><td>S106</td><td>N</td><td>1955-10-15</td><td>1959-06-04</td><td>89</td></tr><tr><td>140394</td><td>Jitesh</td><td>Male</td><td>Anthrax</td><td>Karimnagar</td><td>H1010</td><td>42</td><td>H1010</td><td>Lilavati Hospital And Research Centre</td><td>Mumbai</td><td>Maharashtra</td><td>India</td><td>N</td><td>SUBID10060</td><td>139755</td><td>2004-01-20</td><td>60</td><td>claims of policy</td><td>Anthrax</td><td>140394</td><td>SUBID10060</td><td>Jitesh</td><td>Vishwakarma</td><td>Gopal Path</td><td>Male</td><td>India</td><td>Karimnagar</td><td>124564</td><td>S110</td><td>Y</td><td>2003-02-03</td><td>2008-04-30</td><td>42</td></tr></tbody></table></div>"
      ]
     },
     "metadata": {
      "application/vnd.databricks.v1+output": {
       "addedWidgets": {},
       "aggData": [],
       "aggError": "",
       "aggOverflow": false,
       "aggSchema": [],
       "aggSeriesLimitReached": false,
       "aggType": "",
       "arguments": {},
       "columnCustomDisplayInfos": {},
       "data": [
        [
         "189996",
         "Ekant",
         "Male",
         "Measles",
         "Berhampore",
         "H1003",
         "82",
         "H1003",
         "PGIMER - Postgraduate Institute of Medical Education and Research",
         "Chandigarh",
         "Haryana",
         "India",
         "N",
         "SUBID10026",
         "192381",
         "1966-08-30",
         "26",
         "claims of value",
         "Measles",
         "189996",
         "SUBID10026",
         "Ekant",
         "Sonkar",
         "Walla Road",
         "Male",
         "India",
         "Berhampore",
         "948589",
         "S110",
         "Y",
         "1963-08-13",
         "1967-05-29",
         "82"
        ],
        [
         "109251",
         "Anjushree",
         "Male",
         "Choking",
         "Ghaziabad",
         "H1001",
         "49",
         "H1001",
         "Medanta The Medicity",
         "Gurgaon",
         "Haryana",
         "India",
         "Y",
         "SUBID10040",
         "116937",
         "1998-09-26",
         "40",
         "claims of value",
         "Choking",
         "109251",
         "SUBID10040",
         "Anjushree",
         "Pandey",
         "Vora Ganj",
         "Male",
         "India",
         "Ghaziabad",
         "782221",
         "S105",
         "N",
         "1996-07-04",
         "1999-02-17",
         "49"
        ],
        [
         "121783",
         "Paridhi",
         "Female",
         "Bladder cancer",
         "Jabalpur",
         "H1013",
         "66",
         "H1013",
         "Apollo Health City - Jubilee Hills",
         "Hyderabad",
         "Telangana",
         "India",
         "N",
         "SUBID10049",
         "159815",
         "1983-06-20",
         "49",
         "claims of fact",
         "Bladder cancer",
         "121783",
         "SUBID10049",
         "Paridhi",
         "Yadav",
         "Sant Path",
         "Female",
         "India",
         "Jabalpur",
         "883754",
         "S107",
         "N",
         "1979-03-27",
         "1985-06-01",
         "66"
        ],
        [
         "194166",
         "Visitor/NA",
         "Male",
         "Colorectal cancer",
         "Baranagar",
         "H1015",
         "78",
         "H1015",
         "Fortis Hospital Mulund",
         "Mumbai",
         "Maharashtra",
         "India",
         "N",
         "SUBID10051",
         "193801",
         "1969-02-01",
         "51",
         "claims of value",
         "Colorectal cancer",
         "194166",
         "SUBID10051",
         "Vistor/NA",
         "Rajput",
         "Chauhan Chowk",
         "Male",
         "India",
         "Baranagar",
         "765234",
         "S103",
         "Y",
         "1966-10-17",
         "1969-06-26",
         "78"
        ],
        [
         "156434",
         "Pushti",
         "Female",
         "Flu",
         "Morbi",
         "H1019",
         "89",
         "H1019",
         "Apollo Hospitals - Bannerghatta Road",
         "Bengaluru",
         "Karnataka",
         "India",
         "N",
         "SUBID10028",
         "122806",
         "1958-08-05",
         "28",
         "claims of policy",
         "Flu",
         "156434",
         "SUBID10028",
         "Pushti",
         "Pandit",
         "Deol Path",
         "Female",
         "India",
         "Morbi",
         "284168",
         "S106",
         "N",
         "1955-10-15",
         "1959-06-04",
         "89"
        ],
        [
         "140394",
         "Jitesh",
         "Male",
         "Anthrax",
         "Karimnagar",
         "H1010",
         "42",
         "H1010",
         "Lilavati Hospital And Research Centre",
         "Mumbai",
         "Maharashtra",
         "India",
         "N",
         "SUBID10060",
         "139755",
         "2004-01-20",
         "60",
         "claims of policy",
         "Anthrax",
         "140394",
         "SUBID10060",
         "Jitesh",
         "Vishwakarma",
         "Gopal Path",
         "Male",
         "India",
         "Karimnagar",
         "124564",
         "S110",
         "Y",
         "2003-02-03",
         "2008-04-30",
         "42"
        ]
       ],
       "datasetInfos": [],
       "dbfsResultPath": null,
       "isJsonSchema": true,
       "metadata": {},
       "overflow": false,
       "plotOptions": {
        "customPlotOptions": {},
        "displayType": "table",
        "pivotAggregation": null,
        "pivotColumns": null,
        "xColumns": null,
        "yColumns": null
       },
       "removedWidgets": [],
       "schema": [
        {
         "metadata": "{}",
         "name": "Patient_id",
         "type": "\"string\""
        },
        {
         "metadata": "{}",
         "name": "Patient_name",
         "type": "\"string\""
        },
        {
         "metadata": "{}",
         "name": "patient_gender",
         "type": "\"string\""
        },
        {
         "metadata": "{}",
         "name": "disease_name",
         "type": "\"string\""
        },
        {
         "metadata": "{}",
         "name": "city",
         "type": "\"string\""
        },
        {
         "metadata": "{}",
         "name": "hospital_id",
         "type": "\"string\""
        },
        {
         "metadata": "{}",
         "name": "patient_age",
         "type": "\"string\""
        },
        {
         "metadata": "{}",
         "name": "Hospital_id",
         "type": "\"string\""
        },
        {
         "metadata": "{}",
         "name": "Hospital_name",
         "type": "\"string\""
        },
        {
         "metadata": "{}",
         "name": "city",
         "type": "\"string\""
        },
        {
         "metadata": "{}",
         "name": "state",
         "type": "\"string\""
        },
        {
         "metadata": "{}",
         "name": "country",
         "type": "\"string\""
        },
        {
         "metadata": "{}",
         "name": "Claim_Or_Rejected",
         "type": "\"string\""
        },
        {
         "metadata": "{}",
         "name": "SUB_ID",
         "type": "\"string\""
        },
        {
         "metadata": "{}",
         "name": "claim_amount",
         "type": "\"string\""
        },
        {
         "metadata": "{}",
         "name": "claim_date",
         "type": "\"string\""
        },
        {
         "metadata": "{}",
         "name": "claim_id",
         "type": "\"string\""
        },
        {
         "metadata": "{}",
         "name": "claim_type",
         "type": "\"string\""
        },
        {
         "metadata": "{}",
         "name": "disease_name",
         "type": "\"string\""
        },
        {
         "metadata": "{}",
         "name": "patient_id",
         "type": "\"string\""
        },
        {
         "metadata": "{}",
         "name": "sub_id",
         "type": "\"string\""
        },
        {
         "metadata": "{}",
         "name": "first_name",
         "type": "\"string\""
        },
        {
         "metadata": "{}",
         "name": "last_name",
         "type": "\"string\""
        },
        {
         "metadata": "{}",
         "name": "Street",
         "type": "\"string\""
        },
        {
         "metadata": "{}",
         "name": "Gender",
         "type": "\"string\""
        },
        {
         "metadata": "{}",
         "name": "Country",
         "type": "\"string\""
        },
        {
         "metadata": "{}",
         "name": "City",
         "type": "\"string\""
        },
        {
         "metadata": "{}",
         "name": "Zip Code",
         "type": "\"string\""
        },
        {
         "metadata": "{}",
         "name": "Subgrp_id",
         "type": "\"string\""
        },
        {
         "metadata": "{}",
         "name": "Elig_ind",
         "type": "\"string\""
        },
        {
         "metadata": "{}",
         "name": "eff_date",
         "type": "\"string\""
        },
        {
         "metadata": "{}",
         "name": "term_date",
         "type": "\"string\""
        },
        {
         "metadata": "{}",
         "name": "age",
         "type": "\"string\""
        }
       ],
       "type": "table"
      }
     },
     "output_type": "display_data"
    }
   ],
   "source": [
    "display(merged_df.head(6))"
   ]
  },
  {
   "cell_type": "code",
   "execution_count": 0,
   "metadata": {
    "application/vnd.databricks.v1+cell": {
     "cellMetadata": {
      "byteLimit": 2048000,
      "rowLimit": 10000
     },
     "inputWidgets": {},
     "nuid": "627505d3-1ada-4ac3-a99d-a03d1c22dcb4",
     "showTitle": false,
     "tableResultSettingsMap": {},
     "title": ""
    }
   },
   "outputs": [
    {
     "output_type": "display_data",
     "data": {
      "text/html": [
       "<style scoped>\n",
       "  .table-result-container {\n",
       "    max-height: 300px;\n",
       "    overflow: auto;\n",
       "  }\n",
       "  table, th, td {\n",
       "    border: 1px solid black;\n",
       "    border-collapse: collapse;\n",
       "  }\n",
       "  th, td {\n",
       "    padding: 5px;\n",
       "  }\n",
       "  th {\n",
       "    text-align: left;\n",
       "  }\n",
       "</style><div class='table-result-container'><table class='table-result'><thead style='background-color: white'><tr><th>Claim_Or_Rejected</th><th>SUB_ID</th><th>claim_amount</th><th>claim_date</th><th>claim_id</th><th>claim_type</th><th>disease_name</th><th>patient_id</th></tr></thead><tbody><tr><td>N</td><td>SUBID1000</td><td>79874</td><td>1949-03-14</td><td>0</td><td>claims of value</td><td>Galactosemia</td><td>187158</td></tr><tr><td>N</td><td>SUBID10001</td><td>151142</td><td>1970-03-16</td><td>1</td><td>claims of policy</td><td>Bladder cancer</td><td>112766</td></tr><tr><td>N</td><td>SUBID10002</td><td>59924</td><td>2008-02-03</td><td>2</td><td>claims of value</td><td>Kidney cancer</td><td>199252</td></tr><tr><td>N</td><td>SUBID10003</td><td>143120</td><td>1995-02-08</td><td>3</td><td>claims of fact</td><td>Suicide</td><td>133424</td></tr><tr><td>Y</td><td>SUBID10004</td><td>168634</td><td>1967-05-23</td><td>4</td><td>claims of value</td><td>Food allergy</td><td>172579</td></tr></tbody></table></div>"
      ]
     },
     "metadata": {
      "application/vnd.databricks.v1+output": {
       "addedWidgets": {},
       "aggData": [],
       "aggError": "",
       "aggOverflow": false,
       "aggSchema": [],
       "aggSeriesLimitReached": false,
       "aggType": "",
       "arguments": {},
       "columnCustomDisplayInfos": {},
       "data": [
        [
         "N",
         "SUBID1000",
         "79874",
         "1949-03-14",
         "0",
         "claims of value",
         "Galactosemia",
         "187158"
        ],
        [
         "N",
         "SUBID10001",
         "151142",
         "1970-03-16",
         "1",
         "claims of policy",
         "Bladder cancer",
         "112766"
        ],
        [
         "N",
         "SUBID10002",
         "59924",
         "2008-02-03",
         "2",
         "claims of value",
         "Kidney cancer",
         "199252"
        ],
        [
         "N",
         "SUBID10003",
         "143120",
         "1995-02-08",
         "3",
         "claims of fact",
         "Suicide",
         "133424"
        ],
        [
         "Y",
         "SUBID10004",
         "168634",
         "1967-05-23",
         "4",
         "claims of value",
         "Food allergy",
         "172579"
        ]
       ],
       "datasetInfos": [],
       "dbfsResultPath": null,
       "isJsonSchema": true,
       "metadata": {},
       "overflow": false,
       "plotOptions": {
        "customPlotOptions": {},
        "displayType": "table",
        "pivotAggregation": null,
        "pivotColumns": null,
        "xColumns": null,
        "yColumns": null
       },
       "removedWidgets": [],
       "schema": [
        {
         "metadata": "{}",
         "name": "Claim_Or_Rejected",
         "type": "\"string\""
        },
        {
         "metadata": "{}",
         "name": "SUB_ID",
         "type": "\"string\""
        },
        {
         "metadata": "{}",
         "name": "claim_amount",
         "type": "\"string\""
        },
        {
         "metadata": "{}",
         "name": "claim_date",
         "type": "\"string\""
        },
        {
         "metadata": "{}",
         "name": "claim_id",
         "type": "\"string\""
        },
        {
         "metadata": "{}",
         "name": "claim_type",
         "type": "\"string\""
        },
        {
         "metadata": "{}",
         "name": "disease_name",
         "type": "\"string\""
        },
        {
         "metadata": "{}",
         "name": "patient_id",
         "type": "\"string\""
        }
       ],
       "type": "table"
      }
     },
     "output_type": "display_data"
    }
   ],
   "source": [
    "display(Claims_df.head(5))"
   ]
  },
  {
   "cell_type": "code",
   "execution_count": 0,
   "metadata": {
    "application/vnd.databricks.v1+cell": {
     "cellMetadata": {
      "byteLimit": 2048000,
      "rowLimit": 10000
     },
     "inputWidgets": {},
     "nuid": "34d42060-50c0-4bf2-8281-be9342a7c776",
     "showTitle": false,
     "tableResultSettingsMap": {},
     "title": ""
    }
   },
   "outputs": [
    {
     "output_type": "display_data",
     "data": {
      "text/html": [
       "<style scoped>\n",
       "  .table-result-container {\n",
       "    max-height: 300px;\n",
       "    overflow: auto;\n",
       "  }\n",
       "  table, th, td {\n",
       "    border: 1px solid black;\n",
       "    border-collapse: collapse;\n",
       "  }\n",
       "  th, td {\n",
       "    padding: 5px;\n",
       "  }\n",
       "  th {\n",
       "    text-align: left;\n",
       "  }\n",
       "</style><div class='table-result-container'><table class='table-result'><thead style='background-color: white'><tr><th>sub_id</th><th>first_name</th><th>last_name</th><th>Street</th><th>Gender</th><th>Country</th><th>City</th><th>Zip Code</th><th>Subgrp_id</th><th>Elig_ind</th><th>eff_date</th><th>term_date</th><th>age</th></tr></thead><tbody><tr><td>SUBID10000</td><td>Harbir</td><td>Vishwakarma</td><td>Baria Marg</td><td>Female</td><td>India</td><td>Rourkela</td><td>767058</td><td>S107</td><td>Y</td><td>1944-06-30</td><td>1954-01-14</td><td>101</td></tr><tr><td>SUBID10001</td><td>Brahmdev</td><td>Sonkar</td><td>Lala Marg</td><td>Female</td><td>India</td><td>Tiruvottiyur</td><td>34639</td><td>S105</td><td>Y</td><td>1968-12-20</td><td>1970-05-16</td><td>76</td></tr><tr><td>SUBID10002</td><td>Ujjawal</td><td>Devi</td><td>Mammen Zila</td><td>Male</td><td>India</td><td>Berhampur</td><td>914455</td><td>S106</td><td>N</td><td>2000-04-16</td><td>2008-05-04</td><td>45</td></tr><tr><td>SUBID10003</td><td>Ballari</td><td>Mishra</td><td>Sahni Zila</td><td>Female</td><td>India</td><td>Bihar Sharif</td><td>91481</td><td>S104</td><td>N</td><td>1989-09-25</td><td>1995-06-05</td><td>55</td></tr><tr><td>SUBID10004</td><td>Devnath</td><td>Srivastav</td><td>Magar Zila</td><td>Female</td><td>India</td><td>Bidhannagar</td><td>531742</td><td>S110</td><td>N</td><td>1966-05-01</td><td>1970-12-09</td><td>79</td></tr></tbody></table></div>"
      ]
     },
     "metadata": {
      "application/vnd.databricks.v1+output": {
       "addedWidgets": {},
       "aggData": [],
       "aggError": "",
       "aggOverflow": false,
       "aggSchema": [],
       "aggSeriesLimitReached": false,
       "aggType": "",
       "arguments": {},
       "columnCustomDisplayInfos": {},
       "data": [
        [
         "SUBID10000",
         "Harbir",
         "Vishwakarma",
         "Baria Marg",
         "Female",
         "India",
         "Rourkela",
         "767058",
         "S107",
         "Y",
         "1944-06-30",
         "1954-01-14",
         "101"
        ],
        [
         "SUBID10001",
         "Brahmdev",
         "Sonkar",
         "Lala Marg",
         "Female",
         "India",
         "Tiruvottiyur",
         "34639",
         "S105",
         "Y",
         "1968-12-20",
         "1970-05-16",
         "76"
        ],
        [
         "SUBID10002",
         "Ujjawal",
         "Devi",
         "Mammen Zila",
         "Male",
         "India",
         "Berhampur",
         "914455",
         "S106",
         "N",
         "2000-04-16",
         "2008-05-04",
         "45"
        ],
        [
         "SUBID10003",
         "Ballari",
         "Mishra",
         "Sahni Zila",
         "Female",
         "India",
         "Bihar Sharif",
         "91481",
         "S104",
         "N",
         "1989-09-25",
         "1995-06-05",
         "55"
        ],
        [
         "SUBID10004",
         "Devnath",
         "Srivastav",
         "Magar Zila",
         "Female",
         "India",
         "Bidhannagar",
         "531742",
         "S110",
         "N",
         "1966-05-01",
         "1970-12-09",
         "79"
        ]
       ],
       "datasetInfos": [],
       "dbfsResultPath": null,
       "isJsonSchema": true,
       "metadata": {},
       "overflow": false,
       "plotOptions": {
        "customPlotOptions": {},
        "displayType": "table",
        "pivotAggregation": null,
        "pivotColumns": null,
        "xColumns": null,
        "yColumns": null
       },
       "removedWidgets": [],
       "schema": [
        {
         "metadata": "{}",
         "name": "sub_id",
         "type": "\"string\""
        },
        {
         "metadata": "{}",
         "name": "first_name",
         "type": "\"string\""
        },
        {
         "metadata": "{}",
         "name": "last_name",
         "type": "\"string\""
        },
        {
         "metadata": "{}",
         "name": "Street",
         "type": "\"string\""
        },
        {
         "metadata": "{}",
         "name": "Gender",
         "type": "\"string\""
        },
        {
         "metadata": "{}",
         "name": "Country",
         "type": "\"string\""
        },
        {
         "metadata": "{}",
         "name": "City",
         "type": "\"string\""
        },
        {
         "metadata": "{}",
         "name": "Zip Code",
         "type": "\"string\""
        },
        {
         "metadata": "{}",
         "name": "Subgrp_id",
         "type": "\"string\""
        },
        {
         "metadata": "{}",
         "name": "Elig_ind",
         "type": "\"string\""
        },
        {
         "metadata": "{}",
         "name": "eff_date",
         "type": "\"string\""
        },
        {
         "metadata": "{}",
         "name": "term_date",
         "type": "\"string\""
        },
        {
         "metadata": "{}",
         "name": "age",
         "type": "\"string\""
        }
       ],
       "type": "table"
      }
     },
     "output_type": "display_data"
    }
   ],
   "source": [
    "display(Subscriber_S_df.head(5))"
   ]
  },
  {
   "cell_type": "code",
   "execution_count": 0,
   "metadata": {
    "application/vnd.databricks.v1+cell": {
     "cellMetadata": {
      "byteLimit": 2048000,
      "rowLimit": 10000
     },
     "inputWidgets": {},
     "nuid": "6dc0f378-dc1f-4a2a-92eb-f21c53eaa497",
     "showTitle": false,
     "tableResultSettingsMap": {},
     "title": ""
    }
   },
   "outputs": [
    {
     "output_type": "stream",
     "name": "stdout",
     "output_type": "stream",
     "text": [
      "CSV file successfully written to abfss://optum@optumsadls.dfs.core.windows.net/gold//optum.csv\n"
     ]
    },
    {
     "output_type": "execute_result",
     "data": {
      "text/plain": [
       "'abfss://optum@optumsadls.dfs.core.windows.net/gold//optum.csv'"
      ]
     },
     "execution_count": 31,
     "metadata": {},
     "output_type": "execute_result"
    }
   ],
   "source": [
    "write2gold(merged_df, \"optum.csv\")"
   ]
  },
  {
   "cell_type": "code",
   "execution_count": 0,
   "metadata": {
    "application/vnd.databricks.v1+cell": {
     "cellMetadata": {
      "byteLimit": 2048000,
      "rowLimit": 10000
     },
     "inputWidgets": {},
     "nuid": "a4b9fe40-f11d-4222-aca7-f8c12b3343e3",
     "showTitle": false,
     "tableResultSettingsMap": {},
     "title": ""
    }
   },
   "outputs": [],
   "source": [
    "server_name = \"optums.database.windows.net\"\n",
    "database_name = \"optum_db\"\n",
    "table_name = \"optum_tb\"\n",
    "user = \"optum_admin\"\n",
    "password = \"Welcome@123\"\n",
    "\n",
    "# JDBC URL for Azure SQL\n",
    "jdbc_url = f\"jdbc:sqlserver://{server_name}:1433;databaseName={database_name};encrypt=true;trustServerCertificate=false;loginTimeout=30;\"\n",
    "\n",
    "# Connection properties\n",
    "connection_properties = {\n",
    "    \"user\": user,\n",
    "    \"password\": password,\n",
    "    \"driver\": \"com.microsoft.sqlserver.jdbc.SQLServerDriver\"\n",
    "}\n",
    "\n",
    "# Writing DataFrame to Azure SQL\n",
    "merged_df.write \\\n",
    "    .format(\"jdbc\") \\\n",
    "    .option(\"url\", jdbc_url) \\\n",
    "    .option(\"dbtable\", table_name) \\\n",
    "    .option(\"user\", user) \\\n",
    "    .option(\"password\", password) \\\n",
    "    .option(\"driver\", \"com.microsoft.sqlserver.jdbc.SQLServerDriver\") \\\n",
    "    .mode(\"overwrite\") \\\n",
    "    .save()"
   ]
  }
 ],
 "metadata": {
  "application/vnd.databricks.v1+notebook": {
   "computePreferences": null,
   "dashboards": [],
   "environmentMetadata": {
    "base_environment": "",
    "environment_version": "2"
   },
   "language": "python",
   "notebookMetadata": {
    "pythonIndentUnit": 4
   },
   "notebookName": "silver2gold",
   "widgets": {}
  },
  "language_info": {
   "name": "python"
  }
 },
 "nbformat": 4,
 "nbformat_minor": 0
}